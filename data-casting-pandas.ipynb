{
 "cells": [
  {
   "cell_type": "code",
   "execution_count": 2,
   "id": "10de58a9-c81a-4969-bc8f-96167e787b15",
   "metadata": {},
   "outputs": [],
   "source": [
    "import pandas as pd"
   ]
  },
  {
   "cell_type": "code",
   "execution_count": 4,
   "id": "00e046f6-fc74-4182-8630-0198e21a6d8c",
   "metadata": {},
   "outputs": [],
   "source": [
    "# casting merupakan convert tipe\n",
    "# mengecek tipe data menggunakan .info()\n",
    "# tipe data ada object, float, int, datetime\n",
    "# casting data menggunakan function astype()"
   ]
  },
  {
   "cell_type": "code",
   "execution_count": 4,
   "id": "d1313e6f-e661-4207-8616-4dc3de82c4cd",
   "metadata": {},
   "outputs": [
    {
     "data": {
      "text/html": [
       "<div>\n",
       "<style scoped>\n",
       "    .dataframe tbody tr th:only-of-type {\n",
       "        vertical-align: middle;\n",
       "    }\n",
       "\n",
       "    .dataframe tbody tr th {\n",
       "        vertical-align: top;\n",
       "    }\n",
       "\n",
       "    .dataframe thead th {\n",
       "        text-align: right;\n",
       "    }\n",
       "</style>\n",
       "<table border=\"1\" class=\"dataframe\">\n",
       "  <thead>\n",
       "    <tr style=\"text-align: right;\">\n",
       "      <th></th>\n",
       "      <th>Invoice ID</th>\n",
       "      <th>Branch</th>\n",
       "      <th>City</th>\n",
       "      <th>Customer type</th>\n",
       "      <th>Gender</th>\n",
       "      <th>Product line</th>\n",
       "      <th>Unit price</th>\n",
       "      <th>Quantity</th>\n",
       "      <th>Tax 5%</th>\n",
       "      <th>Total</th>\n",
       "      <th>Date</th>\n",
       "      <th>Time</th>\n",
       "      <th>Payment</th>\n",
       "      <th>cogs</th>\n",
       "      <th>gross margin percentage</th>\n",
       "      <th>gross income</th>\n",
       "      <th>Rating</th>\n",
       "    </tr>\n",
       "  </thead>\n",
       "  <tbody>\n",
       "    <tr>\n",
       "      <th>0</th>\n",
       "      <td>750-67-8428</td>\n",
       "      <td>A</td>\n",
       "      <td>Yangon</td>\n",
       "      <td>Member</td>\n",
       "      <td>Female</td>\n",
       "      <td>Health and beauty</td>\n",
       "      <td>74.69</td>\n",
       "      <td>7</td>\n",
       "      <td>26.1415</td>\n",
       "      <td>548.9715</td>\n",
       "      <td>1/5/2019</td>\n",
       "      <td>13:08</td>\n",
       "      <td>Ewallet</td>\n",
       "      <td>522.83</td>\n",
       "      <td>4.761905</td>\n",
       "      <td>26.1415</td>\n",
       "      <td>9.1</td>\n",
       "    </tr>\n",
       "    <tr>\n",
       "      <th>1</th>\n",
       "      <td>226-31-3081</td>\n",
       "      <td>C</td>\n",
       "      <td>Naypyitaw</td>\n",
       "      <td>Normal</td>\n",
       "      <td>Female</td>\n",
       "      <td>Electronic accessories</td>\n",
       "      <td>15.28</td>\n",
       "      <td>5</td>\n",
       "      <td>3.8200</td>\n",
       "      <td>80.2200</td>\n",
       "      <td>3/8/2019</td>\n",
       "      <td>10:29</td>\n",
       "      <td>Cash</td>\n",
       "      <td>76.40</td>\n",
       "      <td>4.761905</td>\n",
       "      <td>3.8200</td>\n",
       "      <td>9.6</td>\n",
       "    </tr>\n",
       "  </tbody>\n",
       "</table>\n",
       "</div>"
      ],
      "text/plain": [
       "    Invoice ID Branch       City Customer type  Gender  \\\n",
       "0  750-67-8428      A     Yangon        Member  Female   \n",
       "1  226-31-3081      C  Naypyitaw        Normal  Female   \n",
       "\n",
       "             Product line  Unit price  Quantity   Tax 5%     Total      Date  \\\n",
       "0       Health and beauty       74.69         7  26.1415  548.9715  1/5/2019   \n",
       "1  Electronic accessories       15.28         5   3.8200   80.2200  3/8/2019   \n",
       "\n",
       "    Time  Payment    cogs  gross margin percentage  gross income  Rating  \n",
       "0  13:08  Ewallet  522.83                 4.761905       26.1415     9.1  \n",
       "1  10:29     Cash   76.40                 4.761905        3.8200     9.6  "
      ]
     },
     "execution_count": 4,
     "metadata": {},
     "output_type": "execute_result"
    }
   ],
   "source": [
    "data_1 = pd.read_csv('supermarket_sales.csv')\n",
    "data_1.head(2)"
   ]
  },
  {
   "cell_type": "code",
   "execution_count": 10,
   "id": "ba26b361-eff9-4a8a-a91c-32376f5398c3",
   "metadata": {},
   "outputs": [
    {
     "name": "stdout",
     "output_type": "stream",
     "text": [
      "<class 'pandas.core.frame.DataFrame'>\n",
      "RangeIndex: 1000 entries, 0 to 999\n",
      "Data columns (total 17 columns):\n",
      " #   Column                   Non-Null Count  Dtype  \n",
      "---  ------                   --------------  -----  \n",
      " 0   Invoice ID               1000 non-null   object \n",
      " 1   Branch                   1000 non-null   object \n",
      " 2   City                     1000 non-null   object \n",
      " 3   Customer type            1000 non-null   object \n",
      " 4   Gender                   1000 non-null   object \n",
      " 5   Product line             1000 non-null   object \n",
      " 6   Unit price               1000 non-null   float64\n",
      " 7   Quantity                 1000 non-null   int64  \n",
      " 8   Tax 5%                   1000 non-null   float64\n",
      " 9   Total                    1000 non-null   float64\n",
      " 10  Date                     1000 non-null   object \n",
      " 11  Time                     1000 non-null   object \n",
      " 12  Payment                  1000 non-null   object \n",
      " 13  cogs                     1000 non-null   float64\n",
      " 14  gross margin percentage  1000 non-null   float64\n",
      " 15  gross income             1000 non-null   float64\n",
      " 16  Rating                   1000 non-null   float64\n",
      "dtypes: float64(7), int64(1), object(9)\n",
      "memory usage: 132.9+ KB\n"
     ]
    }
   ],
   "source": [
    "data_1.info()"
   ]
  },
  {
   "cell_type": "code",
   "execution_count": null,
   "id": "3f5fed50-ba01-413b-925c-754e9b3eb37a",
   "metadata": {},
   "outputs": [],
   "source": []
  },
  {
   "cell_type": "code",
   "execution_count": 18,
   "id": "aee7aa0e-6464-4b89-9a4a-9d7cd6cfb05c",
   "metadata": {},
   "outputs": [
    {
     "data": {
      "text/plain": [
       "0      74\n",
       "1      15\n",
       "2      46\n",
       "3      58\n",
       "4      86\n",
       "       ..\n",
       "995    40\n",
       "996    97\n",
       "997    31\n",
       "998    65\n",
       "999    88\n",
       "Name: Unit price, Length: 1000, dtype: int32"
      ]
     },
     "execution_count": 18,
     "metadata": {},
     "output_type": "execute_result"
    }
   ],
   "source": [
    "#casting float to int\n",
    "data_1[\"Unit price\"] = data_1[\"Unit price\"].astype(\"int\")\n",
    "data_1[\"Unit price\"]"
   ]
  },
  {
   "cell_type": "code",
   "execution_count": 12,
   "id": "54f0c032-6cbd-4fa6-b329-2736000a68f1",
   "metadata": {},
   "outputs": [],
   "source": [
    "# if casting data in many colomns\n",
    "# first make a dictionary first\n",
    "\n",
    "data_2 = pd.read_csv('supermarket_sales.csv')\n",
    "\n",
    "casting_data = {\n",
    "    \"Date\" : \"datetime64[ns]\",\n",
    "    \"Time\" : \"datetime64[ns]\",\n",
    "    \"Payment\" : \"category\",\n",
    "    \"cogs\" : \"int\"\n",
    "    \n",
    "}"
   ]
  },
  {
   "cell_type": "code",
   "execution_count": 18,
   "id": "6a51ab48-4998-409a-aebf-b15fa302baf9",
   "metadata": {},
   "outputs": [
    {
     "name": "stdout",
     "output_type": "stream",
     "text": [
      "<class 'pandas.core.frame.DataFrame'>\n",
      "RangeIndex: 1000 entries, 0 to 999\n",
      "Data columns (total 17 columns):\n",
      " #   Column                   Non-Null Count  Dtype         \n",
      "---  ------                   --------------  -----         \n",
      " 0   Invoice ID               1000 non-null   object        \n",
      " 1   Branch                   1000 non-null   object        \n",
      " 2   City                     1000 non-null   object        \n",
      " 3   Customer type            1000 non-null   object        \n",
      " 4   Gender                   1000 non-null   object        \n",
      " 5   Product line             1000 non-null   object        \n",
      " 6   Unit price               1000 non-null   float64       \n",
      " 7   Quantity                 1000 non-null   int64         \n",
      " 8   Tax 5%                   1000 non-null   float64       \n",
      " 9   Total                    1000 non-null   float64       \n",
      " 10  Date                     1000 non-null   datetime64[ns]\n",
      " 11  Time                     1000 non-null   datetime64[ns]\n",
      " 12  Payment                  1000 non-null   category      \n",
      " 13  cogs                     1000 non-null   int32         \n",
      " 14  gross margin percentage  1000 non-null   float64       \n",
      " 15  gross income             1000 non-null   float64       \n",
      " 16  Rating                   1000 non-null   float64       \n",
      "dtypes: category(1), datetime64[ns](2), float64(6), int32(1), int64(1), object(6)\n",
      "memory usage: 122.3+ KB\n"
     ]
    }
   ],
   "source": [
    "data_2 = data_2.astype(casting_data)\n",
    "data_2.info()"
   ]
  },
  {
   "cell_type": "code",
   "execution_count": 24,
   "id": "e6cd6787-2b82-4432-9f62-f5a744674cd4",
   "metadata": {},
   "outputs": [
    {
     "name": "stdout",
     "output_type": "stream",
     "text": [
      "<class 'pandas.core.frame.DataFrame'>\n",
      "RangeIndex: 1000 entries, 0 to 999\n",
      "Data columns (total 17 columns):\n",
      " #   Column                   Non-Null Count  Dtype         \n",
      "---  ------                   --------------  -----         \n",
      " 0   Invoice ID               1000 non-null   object        \n",
      " 1   Branch                   1000 non-null   object        \n",
      " 2   City                     1000 non-null   object        \n",
      " 3   Customer type            1000 non-null   object        \n",
      " 4   Gender                   1000 non-null   object        \n",
      " 5   Product line             1000 non-null   object        \n",
      " 6   Unit price               1000 non-null   float64       \n",
      " 7   Quantity                 1000 non-null   int64         \n",
      " 8   Tax 5%                   1000 non-null   float64       \n",
      " 9   Total                    1000 non-null   float64       \n",
      " 10  Date                     1000 non-null   datetime64[ns]\n",
      " 11  Time                     1000 non-null   datetime64[ns]\n",
      " 12  Payment                  1000 non-null   category      \n",
      " 13  cogs                     1000 non-null   float64       \n",
      " 14  gross margin percentage  1000 non-null   float64       \n",
      " 15  gross income             1000 non-null   float64       \n",
      " 16  Rating                   1000 non-null   float64       \n",
      "dtypes: category(1), datetime64[ns](2), float64(7), int64(1), object(6)\n",
      "memory usage: 126.2+ KB\n"
     ]
    },
    {
     "name": "stderr",
     "output_type": "stream",
     "text": [
      "C:\\Users\\akbar\\AppData\\Local\\Temp\\ipykernel_6076\\3949190775.py:7: UserWarning: Could not infer format, so each element will be parsed individually, falling back to `dateutil`. To ensure parsing is consistent and as-expected, please specify a format.\n",
      "  data_3 = pd.read_csv(\"supermarket_sales.csv\", dtype = casting_data_2, parse_dates = [\"Date\", \"Time\"])\n"
     ]
    }
   ],
   "source": [
    "# casting data when read data directly\n",
    "casting_data_2 = {\n",
    "    \"Payment\" : \"category\"\n",
    "}\n",
    "\n",
    "# parse date function utk mengubah tipe data saat read data file\n",
    "data_3 = pd.read_csv(\"supermarket_sales.csv\", dtype = casting_data_2, parse_dates = [\"Date\", \"Time\"])\n",
    "data_3.info()"
   ]
  },
  {
   "cell_type": "code",
   "execution_count": null,
   "id": "0989d60b-ead9-4772-a0cb-eec518d206cd",
   "metadata": {},
   "outputs": [],
   "source": []
  }
 ],
 "metadata": {
  "kernelspec": {
   "display_name": "Python 3 (ipykernel)",
   "language": "python",
   "name": "python3"
  },
  "language_info": {
   "codemirror_mode": {
    "name": "ipython",
    "version": 3
   },
   "file_extension": ".py",
   "mimetype": "text/x-python",
   "name": "python",
   "nbconvert_exporter": "python",
   "pygments_lexer": "ipython3",
   "version": "3.11.7"
  }
 },
 "nbformat": 4,
 "nbformat_minor": 5
}
